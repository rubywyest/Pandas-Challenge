{
 "cells": [
  {
   "cell_type": "markdown",
   "metadata": {},
   "source": [
    "### Note\n",
    "* Instructions have been included for each segment. You do not have to follow them exactly, but they are included to help you think through the steps."
   ]
  },
  {
   "cell_type": "code",
   "execution_count": 178,
   "metadata": {},
   "outputs": [
    {
     "data": {
      "text/html": [
       "<div>\n",
       "<style scoped>\n",
       "    .dataframe tbody tr th:only-of-type {\n",
       "        vertical-align: middle;\n",
       "    }\n",
       "\n",
       "    .dataframe tbody tr th {\n",
       "        vertical-align: top;\n",
       "    }\n",
       "\n",
       "    .dataframe thead th {\n",
       "        text-align: right;\n",
       "    }\n",
       "</style>\n",
       "<table border=\"1\" class=\"dataframe\">\n",
       "  <thead>\n",
       "    <tr style=\"text-align: right;\">\n",
       "      <th></th>\n",
       "      <th>Purchase ID</th>\n",
       "      <th>SN</th>\n",
       "      <th>Age</th>\n",
       "      <th>Gender</th>\n",
       "      <th>Item ID</th>\n",
       "      <th>Item Name</th>\n",
       "      <th>Price</th>\n",
       "    </tr>\n",
       "  </thead>\n",
       "  <tbody>\n",
       "    <tr>\n",
       "      <th>0</th>\n",
       "      <td>0</td>\n",
       "      <td>Lisim78</td>\n",
       "      <td>20</td>\n",
       "      <td>Male</td>\n",
       "      <td>108</td>\n",
       "      <td>Extraction, Quickblade Of Trembling Hands</td>\n",
       "      <td>3.53</td>\n",
       "    </tr>\n",
       "    <tr>\n",
       "      <th>1</th>\n",
       "      <td>1</td>\n",
       "      <td>Lisovynya38</td>\n",
       "      <td>40</td>\n",
       "      <td>Male</td>\n",
       "      <td>143</td>\n",
       "      <td>Frenzied Scimitar</td>\n",
       "      <td>1.56</td>\n",
       "    </tr>\n",
       "    <tr>\n",
       "      <th>2</th>\n",
       "      <td>2</td>\n",
       "      <td>Ithergue48</td>\n",
       "      <td>24</td>\n",
       "      <td>Male</td>\n",
       "      <td>92</td>\n",
       "      <td>Final Critic</td>\n",
       "      <td>4.88</td>\n",
       "    </tr>\n",
       "    <tr>\n",
       "      <th>3</th>\n",
       "      <td>3</td>\n",
       "      <td>Chamassasya86</td>\n",
       "      <td>24</td>\n",
       "      <td>Male</td>\n",
       "      <td>100</td>\n",
       "      <td>Blindscythe</td>\n",
       "      <td>3.27</td>\n",
       "    </tr>\n",
       "    <tr>\n",
       "      <th>4</th>\n",
       "      <td>4</td>\n",
       "      <td>Iskosia90</td>\n",
       "      <td>23</td>\n",
       "      <td>Male</td>\n",
       "      <td>131</td>\n",
       "      <td>Fury</td>\n",
       "      <td>1.44</td>\n",
       "    </tr>\n",
       "    <tr>\n",
       "      <th>5</th>\n",
       "      <td>5</td>\n",
       "      <td>Yalae81</td>\n",
       "      <td>22</td>\n",
       "      <td>Male</td>\n",
       "      <td>81</td>\n",
       "      <td>Dreamkiss</td>\n",
       "      <td>3.61</td>\n",
       "    </tr>\n",
       "    <tr>\n",
       "      <th>6</th>\n",
       "      <td>6</td>\n",
       "      <td>Itheria73</td>\n",
       "      <td>36</td>\n",
       "      <td>Male</td>\n",
       "      <td>169</td>\n",
       "      <td>Interrogator, Blood Blade of the Queen</td>\n",
       "      <td>2.18</td>\n",
       "    </tr>\n",
       "    <tr>\n",
       "      <th>7</th>\n",
       "      <td>7</td>\n",
       "      <td>Iskjaskst81</td>\n",
       "      <td>20</td>\n",
       "      <td>Male</td>\n",
       "      <td>162</td>\n",
       "      <td>Abyssal Shard</td>\n",
       "      <td>2.67</td>\n",
       "    </tr>\n",
       "    <tr>\n",
       "      <th>8</th>\n",
       "      <td>8</td>\n",
       "      <td>Undjask33</td>\n",
       "      <td>22</td>\n",
       "      <td>Male</td>\n",
       "      <td>21</td>\n",
       "      <td>Souleater</td>\n",
       "      <td>1.10</td>\n",
       "    </tr>\n",
       "    <tr>\n",
       "      <th>9</th>\n",
       "      <td>9</td>\n",
       "      <td>Chanosian48</td>\n",
       "      <td>35</td>\n",
       "      <td>Other / Non-Disclosed</td>\n",
       "      <td>136</td>\n",
       "      <td>Ghastly Adamantite Protector</td>\n",
       "      <td>3.58</td>\n",
       "    </tr>\n",
       "  </tbody>\n",
       "</table>\n",
       "</div>"
      ],
      "text/plain": [
       "   Purchase ID             SN  Age                 Gender  Item ID  \\\n",
       "0            0        Lisim78   20                   Male      108   \n",
       "1            1    Lisovynya38   40                   Male      143   \n",
       "2            2     Ithergue48   24                   Male       92   \n",
       "3            3  Chamassasya86   24                   Male      100   \n",
       "4            4      Iskosia90   23                   Male      131   \n",
       "5            5        Yalae81   22                   Male       81   \n",
       "6            6      Itheria73   36                   Male      169   \n",
       "7            7    Iskjaskst81   20                   Male      162   \n",
       "8            8      Undjask33   22                   Male       21   \n",
       "9            9    Chanosian48   35  Other / Non-Disclosed      136   \n",
       "\n",
       "                                   Item Name  Price  \n",
       "0  Extraction, Quickblade Of Trembling Hands   3.53  \n",
       "1                          Frenzied Scimitar   1.56  \n",
       "2                               Final Critic   4.88  \n",
       "3                                Blindscythe   3.27  \n",
       "4                                       Fury   1.44  \n",
       "5                                  Dreamkiss   3.61  \n",
       "6     Interrogator, Blood Blade of the Queen   2.18  \n",
       "7                              Abyssal Shard   2.67  \n",
       "8                                  Souleater   1.10  \n",
       "9               Ghastly Adamantite Protector   3.58  "
      ]
     },
     "execution_count": 178,
     "metadata": {},
     "output_type": "execute_result"
    }
   ],
   "source": [
    "# Dependencies and Setup\n",
    "import pandas as pd\n",
    "\n",
    "# File to Load (Remember to Change These)\n",
    "file_to_load = \"Resources/purchase_data.csv\"\n",
    "\n",
    "# Read Purchasing File and store into Pandas data frame\n",
    "purchase_data_pd = pd.read_csv(file_to_load)\n",
    "purchase_data_df = pd.DataFrame(purchase_data_pd)\n",
    "\n",
    "purchase_data_pd.head(10)"
   ]
  },
  {
   "cell_type": "markdown",
   "metadata": {},
   "source": [
    "## Player Count"
   ]
  },
  {
   "cell_type": "markdown",
   "metadata": {},
   "source": [
    "* Display the total number of players\n"
   ]
  },
  {
   "cell_type": "code",
   "execution_count": 192,
   "metadata": {},
   "outputs": [
    {
     "data": {
      "text/plain": [
       "576"
      ]
     },
     "execution_count": 192,
     "metadata": {},
     "output_type": "execute_result"
    }
   ],
   "source": [
    "Total_playercount = purchase_data_pd[\"SN\"].nunique()\n",
    "\n",
    "Total_playercount\n"
   ]
  },
  {
   "cell_type": "markdown",
   "metadata": {},
   "source": [
    "## Purchasing Analysis (Total)"
   ]
  },
  {
   "cell_type": "markdown",
   "metadata": {},
   "source": [
    "* Run basic calculations to obtain number of unique items, average price, etc.\n",
    "\n",
    "\n",
    "* Create a summary data frame to hold the results\n",
    "\n",
    "\n",
    "* Optional: give the displayed data cleaner formatting\n",
    "\n",
    "\n",
    "* Display the summary data frame\n"
   ]
  },
  {
   "cell_type": "code",
   "execution_count": 191,
   "metadata": {},
   "outputs": [
    {
     "data": {
      "text/plain": [
       "183"
      ]
     },
     "execution_count": 191,
     "metadata": {},
     "output_type": "execute_result"
    }
   ],
   "source": [
    "uniqueID = purchase_data_pd[\"Item ID\"].nunique()\n",
    "uniqueID"
   ]
  },
  {
   "cell_type": "code",
   "execution_count": 181,
   "metadata": {},
   "outputs": [
    {
     "data": {
      "text/plain": [
       "3.050987179487176"
      ]
     },
     "execution_count": 181,
     "metadata": {},
     "output_type": "execute_result"
    }
   ],
   "source": [
    "AveragePrice = purchase_data_pd['Price'].mean()\n",
    "AveragePrice"
   ]
  },
  {
   "cell_type": "code",
   "execution_count": 182,
   "metadata": {},
   "outputs": [
    {
     "data": {
      "text/plain": [
       "780"
      ]
     },
     "execution_count": 182,
     "metadata": {},
     "output_type": "execute_result"
    }
   ],
   "source": [
    "NumOfPur = purchase_data_pd['Purchase ID'].count()\n",
    "NumOfPur"
   ]
  },
  {
   "cell_type": "code",
   "execution_count": 183,
   "metadata": {},
   "outputs": [
    {
     "data": {
      "text/plain": [
       "2379.77"
      ]
     },
     "execution_count": 183,
     "metadata": {},
     "output_type": "execute_result"
    }
   ],
   "source": [
    "TotalRev = purchase_data_pd['Price'].sum()\n",
    "TotalRev"
   ]
  },
  {
   "cell_type": "code",
   "execution_count": 184,
   "metadata": {},
   "outputs": [
    {
     "data": {
      "text/html": [
       "<div>\n",
       "<style scoped>\n",
       "    .dataframe tbody tr th:only-of-type {\n",
       "        vertical-align: middle;\n",
       "    }\n",
       "\n",
       "    .dataframe tbody tr th {\n",
       "        vertical-align: top;\n",
       "    }\n",
       "\n",
       "    .dataframe thead th {\n",
       "        text-align: right;\n",
       "    }\n",
       "</style>\n",
       "<table border=\"1\" class=\"dataframe\">\n",
       "  <thead>\n",
       "    <tr style=\"text-align: right;\">\n",
       "      <th></th>\n",
       "      <th>Number of Unique Items</th>\n",
       "      <th>Average Price</th>\n",
       "      <th>Number of Purchases</th>\n",
       "      <th>Total Revenue</th>\n",
       "    </tr>\n",
       "  </thead>\n",
       "  <tbody>\n",
       "    <tr>\n",
       "      <th>0</th>\n",
       "      <td>183</td>\n",
       "      <td>3.050987</td>\n",
       "      <td>780</td>\n",
       "      <td>2379.77</td>\n",
       "    </tr>\n",
       "  </tbody>\n",
       "</table>\n",
       "</div>"
      ],
      "text/plain": [
       "   Number of Unique Items  Average Price  Number of Purchases  Total Revenue\n",
       "0                     183       3.050987                  780        2379.77"
      ]
     },
     "execution_count": 184,
     "metadata": {},
     "output_type": "execute_result"
    }
   ],
   "source": [
    "SummaryTable = pd.DataFrame({\"Number of Unique Items\": [uniqueID], \n",
    "                                 \"Average Price\": [AveragePrice],\n",
    "                                 \"Number of Purchases\": [NumOfPur],\n",
    "                                 \"Total Revenue\": [TotalRev]})\n",
    "SummaryTable"
   ]
  },
  {
   "cell_type": "markdown",
   "metadata": {},
   "source": [
    "## Gender Demographics"
   ]
  },
  {
   "cell_type": "markdown",
   "metadata": {},
   "source": [
    "* Percentage and Count of Male Players\n",
    "\n",
    "\n",
    "* Percentage and Count of Female Players\n",
    "\n",
    "\n",
    "* Percentage and Count of Other / Non-Disclosed\n"
   ]
  },
  {
   "cell_type": "code",
   "execution_count": 193,
   "metadata": {},
   "outputs": [
    {
     "data": {
      "text/plain": [
       "Gender\n",
       "Female                    81\n",
       "Male                     484\n",
       "Other / Non-Disclosed     11\n",
       "Name: SN, dtype: int64"
      ]
     },
     "execution_count": 193,
     "metadata": {},
     "output_type": "execute_result"
    }
   ],
   "source": [
    " # Create the GroupBy object based on the \"Gender\"\n",
    "gender_group = purchase_data_pd.groupby(\"Gender\")\n",
    "\n",
    "Total_Gendercount = gender_group[\"SN\"].nunique()\n",
    "Total_Gendercount"
   ]
  },
  {
   "cell_type": "code",
   "execution_count": 189,
   "metadata": {},
   "outputs": [
    {
     "data": {
      "text/plain": [
       "Female                   14.062500\n",
       "Male                     84.027778\n",
       "Other / Non-Disclosed     1.909722\n",
       "Name: SN, dtype: float64"
      ]
     },
     "execution_count": 189,
     "metadata": {},
     "output_type": "execute_result"
    }
   ],
   "source": [
    "Percentage_Players = (Total_Gendercount / Total_playercount *100)\n",
    "Percentage_Players.head()"
   ]
  },
  {
   "cell_type": "code",
   "execution_count": 177,
   "metadata": {},
   "outputs": [
    {
     "data": {
      "text/html": [
       "<style  type=\"text/css\" >\n",
       "</style><table id=\"T_fddd7b42_fcf2_11e9_9339_8019340276e5\" ><thead>    <tr>        <th class=\"blank level0\" ></th>        <th class=\"col_heading level0 col0\" >Total Count</th>        <th class=\"col_heading level0 col1\" >Percentage of Players</th>    </tr></thead><tbody>\n",
       "                <tr>\n",
       "                        <th id=\"T_fddd7b42_fcf2_11e9_9339_8019340276e5level0_row0\" class=\"row_heading level0 row0\" >Male</th>\n",
       "                        <td id=\"T_fddd7b42_fcf2_11e9_9339_8019340276e5row0_col0\" class=\"data row0 col0\" >484</td>\n",
       "                        <td id=\"T_fddd7b42_fcf2_11e9_9339_8019340276e5row0_col1\" class=\"data row0 col1\" >84.03%</td>\n",
       "            </tr>\n",
       "            <tr>\n",
       "                        <th id=\"T_fddd7b42_fcf2_11e9_9339_8019340276e5level0_row1\" class=\"row_heading level0 row1\" >Female</th>\n",
       "                        <td id=\"T_fddd7b42_fcf2_11e9_9339_8019340276e5row1_col0\" class=\"data row1 col0\" >81</td>\n",
       "                        <td id=\"T_fddd7b42_fcf2_11e9_9339_8019340276e5row1_col1\" class=\"data row1 col1\" >14.06%</td>\n",
       "            </tr>\n",
       "            <tr>\n",
       "                        <th id=\"T_fddd7b42_fcf2_11e9_9339_8019340276e5level0_row2\" class=\"row_heading level0 row2\" >Other / Non-Disclosed</th>\n",
       "                        <td id=\"T_fddd7b42_fcf2_11e9_9339_8019340276e5row2_col0\" class=\"data row2 col0\" >11</td>\n",
       "                        <td id=\"T_fddd7b42_fcf2_11e9_9339_8019340276e5row2_col1\" class=\"data row2 col1\" >1.91%</td>\n",
       "            </tr>\n",
       "    </tbody></table>"
      ],
      "text/plain": [
       "<pandas.io.formats.style.Styler at 0x1d18419b668>"
      ]
     },
     "execution_count": 177,
     "metadata": {},
     "output_type": "execute_result"
    }
   ],
   "source": [
    "Summary_GenderTable = pd.DataFrame({\"Total Count\": Total_Gendercount, \"Percentage of Players\": Percentage_Players,})\n",
    "\n",
    "Summary_GenderTable.index.name = None\n",
    "\n",
    "Summary_GenderTable.sort_values([\"Total Count\"], ascending = False).style.format({\"Percentage of Players\":\"{:.2f}%\"})\n"
   ]
  },
  {
   "cell_type": "code",
   "execution_count": null,
   "metadata": {},
   "outputs": [],
   "source": []
  },
  {
   "cell_type": "markdown",
   "metadata": {},
   "source": [
    "\n",
    "## Purchasing Analysis (Gender)"
   ]
  },
  {
   "cell_type": "markdown",
   "metadata": {},
   "source": [
    "* Run basic calculations to obtain purchase count, avg. purchase price, avg. purchase total per person etc. by gender\n",
    "\n",
    "\n",
    "\n",
    "\n",
    "* Create a summary data frame to hold the results\n",
    "\n",
    "\n",
    "* Optional: give the displayed data cleaner formatting\n",
    "\n",
    "\n",
    "* Display the summary data frame"
   ]
  },
  {
   "cell_type": "code",
   "execution_count": 194,
   "metadata": {},
   "outputs": [
    {
     "data": {
      "text/html": [
       "<div>\n",
       "<style scoped>\n",
       "    .dataframe tbody tr th:only-of-type {\n",
       "        vertical-align: middle;\n",
       "    }\n",
       "\n",
       "    .dataframe tbody tr th {\n",
       "        vertical-align: top;\n",
       "    }\n",
       "\n",
       "    .dataframe thead th {\n",
       "        text-align: right;\n",
       "    }\n",
       "</style>\n",
       "<table border=\"1\" class=\"dataframe\">\n",
       "  <thead>\n",
       "    <tr style=\"text-align: right;\">\n",
       "      <th></th>\n",
       "      <th>Purchase Count</th>\n",
       "      <th>Average Purchase Price</th>\n",
       "      <th>Total Purchase Value</th>\n",
       "      <th>Avg Total Purchase per Person</th>\n",
       "    </tr>\n",
       "  </thead>\n",
       "  <tbody>\n",
       "    <tr>\n",
       "      <th>Female</th>\n",
       "      <td>113</td>\n",
       "      <td>$3.20</td>\n",
       "      <td>$361.94</td>\n",
       "      <td>$4.47</td>\n",
       "    </tr>\n",
       "    <tr>\n",
       "      <th>Male</th>\n",
       "      <td>652</td>\n",
       "      <td>$3.02</td>\n",
       "      <td>$1,967.64</td>\n",
       "      <td>$4.07</td>\n",
       "    </tr>\n",
       "    <tr>\n",
       "      <th>Other / Non-Disclosed</th>\n",
       "      <td>15</td>\n",
       "      <td>$3.35</td>\n",
       "      <td>$50.19</td>\n",
       "      <td>$4.56</td>\n",
       "    </tr>\n",
       "  </tbody>\n",
       "</table>\n",
       "</div>"
      ],
      "text/plain": [
       "                       Purchase Count Average Purchase Price  \\\n",
       "Female                            113                  $3.20   \n",
       "Male                              652                  $3.02   \n",
       "Other / Non-Disclosed              15                  $3.35   \n",
       "\n",
       "                      Total Purchase Value Avg Total Purchase per Person  \n",
       "Female                             $361.94                         $4.47  \n",
       "Male                             $1,967.64                         $4.07  \n",
       "Other / Non-Disclosed               $50.19                         $4.56  "
      ]
     },
     "execution_count": 194,
     "metadata": {},
     "output_type": "execute_result"
    }
   ],
   "source": [
    "Pur_Count = gender_group[\"Purchase ID\"].count()\n",
    "\n",
    "Avg_Pur_Price = gender_group[\"Price\"].mean()\n",
    "\n",
    "Avg_Pur_Total = gender_group[\"Price\"].sum()\n",
    "\n",
    "Avg_TotalPur_Per_Gender = Avg_Pur_Total / Total_Gendercount\n",
    "\n",
    "Summary_PurByGender_Table = pd.DataFrame({\"Purchase Count\": Pur_Count, \n",
    "                                          \"Average Purchase Price\": Avg_Pur_Price,\n",
    "                                          \"Total Purchase Value\": Avg_Pur_Total,\n",
    "                                          \"Avg Total Purchase per Person\": Avg_TotalPur_Per_Gender})\n",
    "\n",
    "Summary_PurByGender_Table.index.name = None\n",
    "\n",
    "Summary_PurByGender_Table.loc[:,\"Average Purchase Price\"] =  Summary_PurByGender_Table[\"Average Purchase Price\"].map(\"${:,.2f}\".format)\n",
    "Summary_PurByGender_Table.loc[:,\"Total Purchase Value\"] =  Summary_PurByGender_Table[\"Total Purchase Value\"].map(\"${:,.2f}\".format)\n",
    "Summary_PurByGender_Table.loc[:,\"Avg Total Purchase per Person\"] =  Summary_PurByGender_Table[\"Avg Total Purchase per Person\"].map(\"${:,.2f}\".format)\n",
    "\n",
    "\n",
    "Summary_PurByGender_Table.head()\n"
   ]
  },
  {
   "cell_type": "markdown",
   "metadata": {},
   "source": [
    "## Age Demographics"
   ]
  },
  {
   "cell_type": "markdown",
   "metadata": {},
   "source": [
    "* Establish bins for ages\n",
    "\n",
    "\n",
    "* Categorize the existing players using the age bins. Hint: use pd.cut()\n",
    "\n",
    "\n",
    "* Calculate the numbers and percentages by age group\n",
    "\n",
    "\n",
    "* Create a summary data frame to hold the results\n",
    "\n",
    "\n",
    "* Optional: round the percentage column to two decimal points\n",
    "\n",
    "\n",
    "* Display Age Demographics Table\n"
   ]
  },
  {
   "cell_type": "code",
   "execution_count": 195,
   "metadata": {},
   "outputs": [
    {
     "name": "stdout",
     "output_type": "stream",
     "text": [
      "45\n",
      "7\n"
     ]
    }
   ],
   "source": [
    "print(purchase_data_df[\"Age\"].max())\n",
    "print(purchase_data_df[\"Age\"].min())\n"
   ]
  },
  {
   "cell_type": "code",
   "execution_count": 198,
   "metadata": {},
   "outputs": [
    {
     "data": {
      "text/html": [
       "<div>\n",
       "<style scoped>\n",
       "    .dataframe tbody tr th:only-of-type {\n",
       "        vertical-align: middle;\n",
       "    }\n",
       "\n",
       "    .dataframe tbody tr th {\n",
       "        vertical-align: top;\n",
       "    }\n",
       "\n",
       "    .dataframe thead th {\n",
       "        text-align: right;\n",
       "    }\n",
       "</style>\n",
       "<table border=\"1\" class=\"dataframe\">\n",
       "  <thead>\n",
       "    <tr style=\"text-align: right;\">\n",
       "      <th></th>\n",
       "      <th>Total Count</th>\n",
       "      <th>Percentage of Players</th>\n",
       "    </tr>\n",
       "  </thead>\n",
       "  <tbody>\n",
       "    <tr>\n",
       "      <th>&lt;10</th>\n",
       "      <td>17</td>\n",
       "      <td>2.95%</td>\n",
       "    </tr>\n",
       "    <tr>\n",
       "      <th>10-14</th>\n",
       "      <td>22</td>\n",
       "      <td>3.82%</td>\n",
       "    </tr>\n",
       "    <tr>\n",
       "      <th>15-19</th>\n",
       "      <td>107</td>\n",
       "      <td>18.58%</td>\n",
       "    </tr>\n",
       "    <tr>\n",
       "      <th>20-24</th>\n",
       "      <td>258</td>\n",
       "      <td>44.79%</td>\n",
       "    </tr>\n",
       "    <tr>\n",
       "      <th>25-29</th>\n",
       "      <td>77</td>\n",
       "      <td>13.37%</td>\n",
       "    </tr>\n",
       "    <tr>\n",
       "      <th>30-34</th>\n",
       "      <td>52</td>\n",
       "      <td>9.03%</td>\n",
       "    </tr>\n",
       "    <tr>\n",
       "      <th>35-39</th>\n",
       "      <td>31</td>\n",
       "      <td>5.38%</td>\n",
       "    </tr>\n",
       "    <tr>\n",
       "      <th>40-100</th>\n",
       "      <td>12</td>\n",
       "      <td>2.08%</td>\n",
       "    </tr>\n",
       "  </tbody>\n",
       "</table>\n",
       "</div>"
      ],
      "text/plain": [
       "        Total Count Percentage of Players\n",
       "<10              17                 2.95%\n",
       "10-14            22                 3.82%\n",
       "15-19           107                18.58%\n",
       "20-24           258                44.79%\n",
       "25-29            77                13.37%\n",
       "30-34            52                 9.03%\n",
       "35-39            31                 5.38%\n",
       "40-100           12                 2.08%"
      ]
     },
     "execution_count": 198,
     "metadata": {},
     "output_type": "execute_result"
    }
   ],
   "source": [
    "bins = [0, 9.99, 14.99, 19.99, 24.99, 29.99, 34.99, 39.99, 100,]\n",
    "\n",
    "# Create the names for the bins\n",
    "group_namebyage = [\"<10\", \"10-14\", \"15-19\", \"20-24\", \"25-29\", \"30-34\", \"35-39\", \"40-100\"]\n",
    " \n",
    "\n",
    "purchase_data_df[\"Age Group\"] = pd.cut(purchase_data_df[\"Age\"], bins, labels=group_namebyage)\n",
    "purchase_data_df.head(20)\n",
    "\n",
    "PurchaseAge_group = purchase_data_df.groupby(\"Age Group\")\n",
    "\n",
    "totalcount_age = PurchaseAge_group[\"SN\"].nunique()\n",
    "totalcount_age\n",
    "\n",
    "totalper_age = (totalcount_age /  Total_playercount) *100\n",
    "\n",
    "\n",
    "Summary_Age_Table = pd.DataFrame({\"Total Count\": totalcount_age, \n",
    "                                  \"Percentage of Players\": totalper_age})\n",
    "\n",
    "Summary_Age_Table.index.name = None\n",
    "\n",
    "Summary_Age_Table.loc[:,\"Percentage of Players\"] =  Summary_Age_Table[\"Percentage of Players\"].map(\"{:,.2f}%\".format)\n",
    "\n",
    "Summary_Age_Table.head(10)\n"
   ]
  },
  {
   "cell_type": "markdown",
   "metadata": {},
   "source": [
    "## Purchasing Analysis (Age)"
   ]
  },
  {
   "cell_type": "markdown",
   "metadata": {},
   "source": [
    "* Bin the purchase_data data frame by age\n",
    "\n",
    "\n",
    "* Run basic calculations to obtain purchase count, avg. purchase price, avg. purchase total per person etc. in the table below\n",
    "\n",
    "\n",
    "* Create a summary data frame to hold the results\n",
    "\n",
    "\n",
    "* Optional: give the displayed data cleaner formatting\n",
    "\n",
    "\n",
    "* Display the summary data frame"
   ]
  },
  {
   "cell_type": "code",
   "execution_count": null,
   "metadata": {},
   "outputs": [],
   "source": [
    "PurByAge_Count = PurchaseAge_group[\"Purchase ID\"].count()\n",
    "#PurByAgeCount\n",
    "\n",
    "Avg_PurByAge_Price = PurchaseAge_group[\"Price\"].mean()\n",
    "#Avg_PurByAge_Price\n",
    "\n",
    "Total_PurByAge = PurchaseAge_group[\"Price\"].sum()\n",
    "\n",
    "\n",
    "AvgTotal_Purbyperson = Total_PurByAge / totalcount_age\n",
    "AvgTotal_Purbyperson\n",
    "\n",
    "Summary_PurAnalysis_Age_Table = pd.DataFrame({\"Purchase Count\": PurByAge_Count, \n",
    "                                              \"Average Purchase Price\": Avg_PurByAge_Price,\n",
    "                                              \"Total Purchase Value\": Total_PurByAge,    \n",
    "                                              \"Avg Total Purchase Per Person\": AvgTotal_Purbyperson})\n",
    "\n",
    "\n",
    "Summary_PurAnalysis_Age_Table.index.name = \"Age Ranges\"\n",
    "\n",
    "Summary_PurAnalysis_Age_Table.loc[:,\"Purchase Count\"] = Summary_PurAnalysis_Age_Table[\"Purchase Count\"]\n",
    "Summary_PurAnalysis_Age_Table.loc[:,\"Average Purchase Price\"] =  Summary_PurAnalysis_Age_Table[\"Average Purchase Price\"].map(\"${:,.2f}\".format)\n",
    "Summary_PurAnalysis_Age_Table.loc[:,\"Total Purchase Value\"] =  Summary_PurAnalysis_Age_Table[\"Total Purchase Value\"].map(\"${:,.2f}\".format)\n",
    "Summary_PurAnalysis_Age_Table.loc[:,\"Avg Total Purchase Per Person\"] =  Summary_PurAnalysis_Age_Table[\"Avg Total Purchase Per Person\"].map(\"${:,.2f}\".format)\n",
    "\n",
    "Summary_PurAnalysis_Age_Table.head(10)\n",
    "\n"
   ]
  },
  {
   "cell_type": "markdown",
   "metadata": {},
   "source": [
    "## Top Spenders"
   ]
  },
  {
   "cell_type": "markdown",
   "metadata": {},
   "source": [
    "* Run basic calculations to obtain the results in the table below\n",
    "\n",
    "\n",
    "* Create a summary data frame to hold the results\n",
    "\n",
    "\n",
    "* Sort the total purchase value column in descending order\n",
    "\n",
    "\n",
    "* Optional: give the displayed data cleaner formatting\n",
    "\n",
    "\n",
    "* Display a preview of the summary data frame\n",
    "\n"
   ]
  },
  {
   "cell_type": "code",
   "execution_count": 200,
   "metadata": {},
   "outputs": [
    {
     "data": {
      "text/html": [
       "<div>\n",
       "<style scoped>\n",
       "    .dataframe tbody tr th:only-of-type {\n",
       "        vertical-align: middle;\n",
       "    }\n",
       "\n",
       "    .dataframe tbody tr th {\n",
       "        vertical-align: top;\n",
       "    }\n",
       "\n",
       "    .dataframe thead th {\n",
       "        text-align: right;\n",
       "    }\n",
       "</style>\n",
       "<table border=\"1\" class=\"dataframe\">\n",
       "  <thead>\n",
       "    <tr style=\"text-align: right;\">\n",
       "      <th></th>\n",
       "      <th>Purchase Count</th>\n",
       "      <th>Average Purchase Price</th>\n",
       "      <th>Total Purchase Value</th>\n",
       "    </tr>\n",
       "    <tr>\n",
       "      <th>SN</th>\n",
       "      <th></th>\n",
       "      <th></th>\n",
       "      <th></th>\n",
       "    </tr>\n",
       "  </thead>\n",
       "  <tbody>\n",
       "    <tr>\n",
       "      <th>Lisosia93</th>\n",
       "      <td>5</td>\n",
       "      <td>$3.79</td>\n",
       "      <td>$18.96</td>\n",
       "    </tr>\n",
       "    <tr>\n",
       "      <th>Idastidru52</th>\n",
       "      <td>4</td>\n",
       "      <td>$3.86</td>\n",
       "      <td>$15.45</td>\n",
       "    </tr>\n",
       "    <tr>\n",
       "      <th>Chamjask73</th>\n",
       "      <td>3</td>\n",
       "      <td>$4.61</td>\n",
       "      <td>$13.83</td>\n",
       "    </tr>\n",
       "    <tr>\n",
       "      <th>Iral74</th>\n",
       "      <td>4</td>\n",
       "      <td>$3.40</td>\n",
       "      <td>$13.62</td>\n",
       "    </tr>\n",
       "    <tr>\n",
       "      <th>Iskadarya95</th>\n",
       "      <td>3</td>\n",
       "      <td>$4.37</td>\n",
       "      <td>$13.10</td>\n",
       "    </tr>\n",
       "  </tbody>\n",
       "</table>\n",
       "</div>"
      ],
      "text/plain": [
       "             Purchase Count Average Purchase Price Total Purchase Value\n",
       "SN                                                                     \n",
       "Lisosia93                 5                  $3.79               $18.96\n",
       "Idastidru52               4                  $3.86               $15.45\n",
       "Chamjask73                3                  $4.61               $13.83\n",
       "Iral74                    4                  $3.40               $13.62\n",
       "Iskadarya95               3                  $4.37               $13.10"
      ]
     },
     "execution_count": 200,
     "metadata": {},
     "output_type": "execute_result"
    }
   ],
   "source": [
    "Spenders_group = purchase_data_df.groupby(\"SN\")\n",
    "\n",
    "Count_Spenders= Spenders_group[\"Purchase ID\"].count()\n",
    "\n",
    "\n",
    "Avg_Spenders_Price =Spenders_group[\"Price\"].mean()\n",
    "Avg_Spenders_Price\n",
    "\n",
    "Total_PurPerSpenders = Spenders_group[\"Price\"].sum()\n",
    "Total_PurPerSpenders\n",
    "\n",
    "Summary_Top_Spenders = pd.DataFrame({\"Purchase Count\": Count_Spenders, \n",
    "                                     \"Average Purchase Price\": Avg_Spenders_Price,\n",
    "                                     \"Total Purchase Value\": Total_PurPerSpenders})\n",
    "\n",
    "Summary_Top_Spenders.index.name = \"SN\"\n",
    "\n",
    "Summary_Top_Spenders = Summary_Top_Spenders.sort_values([\"Total Purchase Value\"], ascending=False)\n",
    "\n",
    "Summary_Top_Spenders.loc[:,\"Purchase Count\"] = Summary_Top_Spenders[\"Purchase Count\"]\n",
    "Summary_Top_Spenders.loc[:,\"Average Purchase Price\"] = Summary_Top_Spenders[\"Average Purchase Price\"].map(\"${:,.2f}\".format)\n",
    "Summary_Top_Spenders.loc[:,\"Total Purchase Value\"] =  Summary_Top_Spenders[\"Total Purchase Value\"].map(\"${:,.2f}\".format)\n",
    "\n",
    "Summary_Top_Spenders.head()\n"
   ]
  },
  {
   "cell_type": "markdown",
   "metadata": {},
   "source": [
    "## Most Popular Items"
   ]
  },
  {
   "cell_type": "markdown",
   "metadata": {},
   "source": [
    "* Retrieve the Item ID, Item Name, and Item Price columns\n",
    "\n",
    "\n",
    "* Group by Item ID and Item Name. Perform calculations to obtain purchase count, item price, and total purchase value\n",
    "\n",
    "\n",
    "* Create a summary data frame to hold the results\n",
    "\n",
    "\n",
    "* Sort the purchase count column in descending order\n",
    "\n",
    "\n",
    "* Optional: give the displayed data cleaner formatting\n",
    "\n",
    "\n",
    "* Display a preview of the summary data frame\n",
    "\n"
   ]
  },
  {
   "cell_type": "code",
   "execution_count": 244,
   "metadata": {},
   "outputs": [
    {
     "data": {
      "text/html": [
       "<style  type=\"text/css\" >\n",
       "</style><table id=\"T_7603758a_fcff_11e9_b765_8019340276e5\" ><thead>    <tr>        <th class=\"blank\" ></th>        <th class=\"blank level0\" ></th>        <th class=\"col_heading level0 col0\" >Purchase Count</th>        <th class=\"col_heading level0 col1\" >Item Price</th>        <th class=\"col_heading level0 col2\" >Total Purchase Value</th>    </tr>    <tr>        <th class=\"index_name level0\" >Item ID</th>        <th class=\"index_name level1\" >Item Name</th>        <th class=\"blank\" ></th>        <th class=\"blank\" ></th>        <th class=\"blank\" ></th>    </tr></thead><tbody>\n",
       "                <tr>\n",
       "                        <th id=\"T_7603758a_fcff_11e9_b765_8019340276e5level0_row0\" class=\"row_heading level0 row0\" >178</th>\n",
       "                        <th id=\"T_7603758a_fcff_11e9_b765_8019340276e5level1_row0\" class=\"row_heading level1 row0\" >Oathbreaker, Last Hope of the Breaking Storm</th>\n",
       "                        <td id=\"T_7603758a_fcff_11e9_b765_8019340276e5row0_col0\" class=\"data row0 col0\" >12</td>\n",
       "                        <td id=\"T_7603758a_fcff_11e9_b765_8019340276e5row0_col1\" class=\"data row0 col1\" >$4.23</td>\n",
       "                        <td id=\"T_7603758a_fcff_11e9_b765_8019340276e5row0_col2\" class=\"data row0 col2\" >$50.76</td>\n",
       "            </tr>\n",
       "            <tr>\n",
       "                        <th id=\"T_7603758a_fcff_11e9_b765_8019340276e5level0_row1\" class=\"row_heading level0 row1\" >145</th>\n",
       "                        <th id=\"T_7603758a_fcff_11e9_b765_8019340276e5level1_row1\" class=\"row_heading level1 row1\" >Fiery Glass Crusader</th>\n",
       "                        <td id=\"T_7603758a_fcff_11e9_b765_8019340276e5row1_col0\" class=\"data row1 col0\" >9</td>\n",
       "                        <td id=\"T_7603758a_fcff_11e9_b765_8019340276e5row1_col1\" class=\"data row1 col1\" >$4.58</td>\n",
       "                        <td id=\"T_7603758a_fcff_11e9_b765_8019340276e5row1_col2\" class=\"data row1 col2\" >$41.22</td>\n",
       "            </tr>\n",
       "            <tr>\n",
       "                        <th id=\"T_7603758a_fcff_11e9_b765_8019340276e5level0_row2\" class=\"row_heading level0 row2\" >108</th>\n",
       "                        <th id=\"T_7603758a_fcff_11e9_b765_8019340276e5level1_row2\" class=\"row_heading level1 row2\" >Extraction, Quickblade Of Trembling Hands</th>\n",
       "                        <td id=\"T_7603758a_fcff_11e9_b765_8019340276e5row2_col0\" class=\"data row2 col0\" >9</td>\n",
       "                        <td id=\"T_7603758a_fcff_11e9_b765_8019340276e5row2_col1\" class=\"data row2 col1\" >$3.53</td>\n",
       "                        <td id=\"T_7603758a_fcff_11e9_b765_8019340276e5row2_col2\" class=\"data row2 col2\" >$31.77</td>\n",
       "            </tr>\n",
       "            <tr>\n",
       "                        <th id=\"T_7603758a_fcff_11e9_b765_8019340276e5level0_row3\" class=\"row_heading level0 row3\" >82</th>\n",
       "                        <th id=\"T_7603758a_fcff_11e9_b765_8019340276e5level1_row3\" class=\"row_heading level1 row3\" >Nirvana</th>\n",
       "                        <td id=\"T_7603758a_fcff_11e9_b765_8019340276e5row3_col0\" class=\"data row3 col0\" >9</td>\n",
       "                        <td id=\"T_7603758a_fcff_11e9_b765_8019340276e5row3_col1\" class=\"data row3 col1\" >$4.90</td>\n",
       "                        <td id=\"T_7603758a_fcff_11e9_b765_8019340276e5row3_col2\" class=\"data row3 col2\" >$44.10</td>\n",
       "            </tr>\n",
       "            <tr>\n",
       "                        <th id=\"T_7603758a_fcff_11e9_b765_8019340276e5level0_row4\" class=\"row_heading level0 row4\" >19</th>\n",
       "                        <th id=\"T_7603758a_fcff_11e9_b765_8019340276e5level1_row4\" class=\"row_heading level1 row4\" >Pursuit, Cudgel of Necromancy</th>\n",
       "                        <td id=\"T_7603758a_fcff_11e9_b765_8019340276e5row4_col0\" class=\"data row4 col0\" >8</td>\n",
       "                        <td id=\"T_7603758a_fcff_11e9_b765_8019340276e5row4_col1\" class=\"data row4 col1\" >$1.02</td>\n",
       "                        <td id=\"T_7603758a_fcff_11e9_b765_8019340276e5row4_col2\" class=\"data row4 col2\" >$8.16</td>\n",
       "            </tr>\n",
       "    </tbody></table>"
      ],
      "text/plain": [
       "<pandas.io.formats.style.Styler at 0x1d1854552b0>"
      ]
     },
     "execution_count": 244,
     "metadata": {},
     "output_type": "execute_result"
    }
   ],
   "source": [
    "Items_df = purchase_data_df[[\"Item ID\", \"Item Name\", \"Price\"]]\n",
    "\n",
    "Items_Group = Items_df.groupby([\"Item ID\", \"Item Name\"])\n",
    "\n",
    "Count_Items = Items_Group[\"Price\"].count()\n",
    "\n",
    "Total_PurValue_Item = Items_Group[\"Price\"].sum()\n",
    "\n",
    "Item_Price = Total_PurValue_Item / Count_Items\n",
    "\n",
    "\n",
    "Summary_MostPopular_Items = pd.DataFrame({\"Purchase Count\": Count_Items, \n",
    "                                  \"Item Price\": Item_Price,\n",
    "                                  \"Total Purchase Value\": Total_PurValue_Item})\n",
    "\n",
    "Summary_MostPopular_Items.index.name = \"Items ID\"\n",
    "\n",
    "Summary_MostPopular_Items = Summary_MostPopular_Items.sort_values([\"Purchase Count\"], ascending=False)\n",
    "\n",
    "Summary_MostPopular_Items.head().style.format({\"Item Price\":\"${:.2f}\",\n",
    "                                \"Total Purchase Value\":\"${:.2f}\"})\n"
   ]
  },
  {
   "cell_type": "code",
   "execution_count": null,
   "metadata": {
    "scrolled": true
   },
   "outputs": [],
   "source": []
  },
  {
   "cell_type": "markdown",
   "metadata": {},
   "source": [
    "## Most Profitable Items"
   ]
  },
  {
   "cell_type": "markdown",
   "metadata": {},
   "source": [
    "* Sort the above table by total purchase value in descending order\n",
    "\n",
    "\n",
    "* Optional: give the displayed data cleaner formatting\n",
    "\n",
    "\n",
    "* Display a preview of the data frame\n",
    "\n"
   ]
  },
  {
   "cell_type": "code",
   "execution_count": 245,
   "metadata": {
    "scrolled": true
   },
   "outputs": [
    {
     "data": {
      "text/html": [
       "<style  type=\"text/css\" >\n",
       "</style><table id=\"T_83c52df0_fcff_11e9_a402_8019340276e5\" ><thead>    <tr>        <th class=\"blank\" ></th>        <th class=\"blank level0\" ></th>        <th class=\"col_heading level0 col0\" >Purchase Count</th>        <th class=\"col_heading level0 col1\" >Item Price</th>        <th class=\"col_heading level0 col2\" >Total Purchase Value</th>    </tr>    <tr>        <th class=\"index_name level0\" >Item ID</th>        <th class=\"index_name level1\" >Item Name</th>        <th class=\"blank\" ></th>        <th class=\"blank\" ></th>        <th class=\"blank\" ></th>    </tr></thead><tbody>\n",
       "                <tr>\n",
       "                        <th id=\"T_83c52df0_fcff_11e9_a402_8019340276e5level0_row0\" class=\"row_heading level0 row0\" >178</th>\n",
       "                        <th id=\"T_83c52df0_fcff_11e9_a402_8019340276e5level1_row0\" class=\"row_heading level1 row0\" >Oathbreaker, Last Hope of the Breaking Storm</th>\n",
       "                        <td id=\"T_83c52df0_fcff_11e9_a402_8019340276e5row0_col0\" class=\"data row0 col0\" >12</td>\n",
       "                        <td id=\"T_83c52df0_fcff_11e9_a402_8019340276e5row0_col1\" class=\"data row0 col1\" >$4.23</td>\n",
       "                        <td id=\"T_83c52df0_fcff_11e9_a402_8019340276e5row0_col2\" class=\"data row0 col2\" >$50.76</td>\n",
       "            </tr>\n",
       "            <tr>\n",
       "                        <th id=\"T_83c52df0_fcff_11e9_a402_8019340276e5level0_row1\" class=\"row_heading level0 row1\" >82</th>\n",
       "                        <th id=\"T_83c52df0_fcff_11e9_a402_8019340276e5level1_row1\" class=\"row_heading level1 row1\" >Nirvana</th>\n",
       "                        <td id=\"T_83c52df0_fcff_11e9_a402_8019340276e5row1_col0\" class=\"data row1 col0\" >9</td>\n",
       "                        <td id=\"T_83c52df0_fcff_11e9_a402_8019340276e5row1_col1\" class=\"data row1 col1\" >$4.90</td>\n",
       "                        <td id=\"T_83c52df0_fcff_11e9_a402_8019340276e5row1_col2\" class=\"data row1 col2\" >$44.10</td>\n",
       "            </tr>\n",
       "            <tr>\n",
       "                        <th id=\"T_83c52df0_fcff_11e9_a402_8019340276e5level0_row2\" class=\"row_heading level0 row2\" >145</th>\n",
       "                        <th id=\"T_83c52df0_fcff_11e9_a402_8019340276e5level1_row2\" class=\"row_heading level1 row2\" >Fiery Glass Crusader</th>\n",
       "                        <td id=\"T_83c52df0_fcff_11e9_a402_8019340276e5row2_col0\" class=\"data row2 col0\" >9</td>\n",
       "                        <td id=\"T_83c52df0_fcff_11e9_a402_8019340276e5row2_col1\" class=\"data row2 col1\" >$4.58</td>\n",
       "                        <td id=\"T_83c52df0_fcff_11e9_a402_8019340276e5row2_col2\" class=\"data row2 col2\" >$41.22</td>\n",
       "            </tr>\n",
       "            <tr>\n",
       "                        <th id=\"T_83c52df0_fcff_11e9_a402_8019340276e5level0_row3\" class=\"row_heading level0 row3\" >92</th>\n",
       "                        <th id=\"T_83c52df0_fcff_11e9_a402_8019340276e5level1_row3\" class=\"row_heading level1 row3\" >Final Critic</th>\n",
       "                        <td id=\"T_83c52df0_fcff_11e9_a402_8019340276e5row3_col0\" class=\"data row3 col0\" >8</td>\n",
       "                        <td id=\"T_83c52df0_fcff_11e9_a402_8019340276e5row3_col1\" class=\"data row3 col1\" >$4.88</td>\n",
       "                        <td id=\"T_83c52df0_fcff_11e9_a402_8019340276e5row3_col2\" class=\"data row3 col2\" >$39.04</td>\n",
       "            </tr>\n",
       "            <tr>\n",
       "                        <th id=\"T_83c52df0_fcff_11e9_a402_8019340276e5level0_row4\" class=\"row_heading level0 row4\" >103</th>\n",
       "                        <th id=\"T_83c52df0_fcff_11e9_a402_8019340276e5level1_row4\" class=\"row_heading level1 row4\" >Singed Scalpel</th>\n",
       "                        <td id=\"T_83c52df0_fcff_11e9_a402_8019340276e5row4_col0\" class=\"data row4 col0\" >8</td>\n",
       "                        <td id=\"T_83c52df0_fcff_11e9_a402_8019340276e5row4_col1\" class=\"data row4 col1\" >$4.35</td>\n",
       "                        <td id=\"T_83c52df0_fcff_11e9_a402_8019340276e5row4_col2\" class=\"data row4 col2\" >$34.80</td>\n",
       "            </tr>\n",
       "    </tbody></table>"
      ],
      "text/plain": [
       "<pandas.io.formats.style.Styler at 0x1d18544b710>"
      ]
     },
     "execution_count": 245,
     "metadata": {},
     "output_type": "execute_result"
    }
   ],
   "source": [
    "Summary_MostProfit_Items = Summary_MostPopular_Items.sort_values([\"Total Purchase Value\"], ascending=False)\n",
    "\n",
    "Summary_MostProfit_Items.head().style.format({\"Item Price\":\"${:.2f}\",\n",
    "                                \"Total Purchase Value\":\"${:.2f}\"})\n",
    "\n"
   ]
  }
 ],
 "metadata": {
  "anaconda-cloud": {},
  "kernel_info": {
   "name": "python3"
  },
  "kernelspec": {
   "display_name": "Python 3",
   "language": "python",
   "name": "python3"
  },
  "language_info": {
   "codemirror_mode": {
    "name": "ipython",
    "version": 3
   },
   "file_extension": ".py",
   "mimetype": "text/x-python",
   "name": "python",
   "nbconvert_exporter": "python",
   "pygments_lexer": "ipython3",
   "version": "3.7.3"
  },
  "latex_envs": {
   "LaTeX_envs_menu_present": true,
   "autoclose": false,
   "autocomplete": true,
   "bibliofile": "biblio.bib",
   "cite_by": "apalike",
   "current_citInitial": 1,
   "eqLabelWithNumbers": true,
   "eqNumInitial": 1,
   "hotkeys": {
    "equation": "Ctrl-E",
    "itemize": "Ctrl-I"
   },
   "labels_anchors": false,
   "latex_user_defs": false,
   "report_style_numbering": false,
   "user_envs_cfg": false
  },
  "nteract": {
   "version": "0.2.0"
  }
 },
 "nbformat": 4,
 "nbformat_minor": 4
}
